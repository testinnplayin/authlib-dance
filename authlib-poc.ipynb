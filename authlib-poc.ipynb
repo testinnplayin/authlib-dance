{
 "cells": [
  {
   "cell_type": "markdown",
   "metadata": {},
   "source": [
    "# POC using authlib for oauth dance\n",
    "\n",
    "## Goal\n",
    "We're looking for a convenient solution for handling the oauth dance in our app. We will use this page to test out the authlib module. We will use the Aircall API for our test, calling one of our smaller data collections.\n",
    "\n",
    "## Dependencies\n",
    "\n",
    "Authlib"
   ]
  }
 ],
 "metadata": {
  "kernelspec": {
   "display_name": "Python 3",
   "language": "python",
   "name": "python3"
  },
  "language_info": {
   "codemirror_mode": {
    "name": "ipython",
    "version": 3
   },
   "file_extension": ".py",
   "mimetype": "text/x-python",
   "name": "python",
   "nbconvert_exporter": "python",
   "pygments_lexer": "ipython3",
   "version": "3.6.9"
  }
 },
 "nbformat": 4,
 "nbformat_minor": 4
}
