{
 "cells": [
  {
   "cell_type": "markdown",
   "metadata": {},
   "source": [
    "# POC using authlib for oauth dance\n",
    "\n",
    "## Goal\n",
    "\n",
    "We're looking for a convenient solution for handling the oauth dance in our app. We will use this page to test out the authlib module. We will use the Aircall API for our test, calling one of our smaller data collections.\n",
    "\n",
    "## Some assumptions\n",
    "\n",
    "Even though we use Flask in our laputa project, we will not use anything Flask-related here. We want to remain as flexible as possible.\n",
    "\n",
    "We will also examine the use of asynchronous code rather than synchronous code since authlib proposes both. If we were to use the synchronous part of authlib, we'd be using the `requests` version.\n",
    "\n",
    "## Requirements\n",
    "\n",
    "In order to use the Aircall API for our tests, we need to have a valid Aircall account set up and have a `client_id` and `client_secret` in order to do the oauth dance.\n",
    "\n",
    "## Dependencies\n",
    "\n",
    "Authlib, httpx\n",
    "\n",
    "### Installing the dependencies"
   ]
  },
  {
   "cell_type": "code",
   "execution_count": 1,
   "metadata": {},
   "outputs": [
    {
     "name": "stdout",
     "output_type": "stream",
     "text": [
      "Requirement already satisfied: Authlib in /home/rachelle2/.pyenv/versions/3.6.9/envs/laputa-3.6/lib/python3.6/site-packages (0.14.3)\n",
      "Requirement already satisfied: httpx in /home/rachelle2/.pyenv/versions/3.6.9/envs/laputa-3.6/lib/python3.6/site-packages (0.13.3)\n",
      "Requirement already satisfied: cryptography in /home/rachelle2/.pyenv/versions/3.6.9/envs/laputa-3.6/lib/python3.6/site-packages (from Authlib) (2.9.2)\n",
      "Requirement already satisfied: sniffio in /home/rachelle2/.pyenv/versions/3.6.9/envs/laputa-3.6/lib/python3.6/site-packages (from httpx) (1.1.0)\n",
      "Requirement already satisfied: idna==2.* in /home/rachelle2/.pyenv/versions/3.6.9/envs/laputa-3.6/lib/python3.6/site-packages (from httpx) (2.9)\n",
      "Requirement already satisfied: hstspreload in /home/rachelle2/.pyenv/versions/3.6.9/envs/laputa-3.6/lib/python3.6/site-packages (from httpx) (2020.6.23)\n",
      "Requirement already satisfied: chardet==3.* in /home/rachelle2/.pyenv/versions/3.6.9/envs/laputa-3.6/lib/python3.6/site-packages (from httpx) (3.0.4)\n",
      "Requirement already satisfied: certifi in /home/rachelle2/.pyenv/versions/3.6.9/envs/laputa-3.6/lib/python3.6/site-packages (from httpx) (2020.6.20)\n",
      "Requirement already satisfied: rfc3986<2,>=1.3 in /home/rachelle2/.pyenv/versions/3.6.9/envs/laputa-3.6/lib/python3.6/site-packages (from httpx) (1.4.0)\n",
      "Requirement already satisfied: httpcore==0.9.* in /home/rachelle2/.pyenv/versions/3.6.9/envs/laputa-3.6/lib/python3.6/site-packages (from httpx) (0.9.1)\n",
      "Requirement already satisfied: six>=1.4.1 in /home/rachelle2/.pyenv/versions/3.6.9/envs/laputa-3.6/lib/python3.6/site-packages (from cryptography->Authlib) (1.15.0)\n",
      "Requirement already satisfied: cffi!=1.11.3,>=1.8 in /home/rachelle2/.pyenv/versions/3.6.9/envs/laputa-3.6/lib/python3.6/site-packages (from cryptography->Authlib) (1.14.0)\n",
      "Requirement already satisfied: contextvars>=2.1; python_version < \"3.7\" in /home/rachelle2/.pyenv/versions/3.6.9/envs/laputa-3.6/lib/python3.6/site-packages (from sniffio->httpx) (2.4)\n",
      "Requirement already satisfied: h2==3.* in /home/rachelle2/.pyenv/versions/3.6.9/envs/laputa-3.6/lib/python3.6/site-packages (from httpcore==0.9.*->httpx) (3.2.0)\n",
      "Requirement already satisfied: h11<0.10,>=0.8 in /home/rachelle2/.pyenv/versions/3.6.9/envs/laputa-3.6/lib/python3.6/site-packages (from httpcore==0.9.*->httpx) (0.9.0)\n",
      "Requirement already satisfied: pycparser in /home/rachelle2/.pyenv/versions/3.6.9/envs/laputa-3.6/lib/python3.6/site-packages (from cffi!=1.11.3,>=1.8->cryptography->Authlib) (2.20)\n",
      "Requirement already satisfied: immutables>=0.9 in /home/rachelle2/.pyenv/versions/3.6.9/envs/laputa-3.6/lib/python3.6/site-packages (from contextvars>=2.1; python_version < \"3.7\"->sniffio->httpx) (0.14)\n",
      "Requirement already satisfied: hyperframe<6,>=5.2.0 in /home/rachelle2/.pyenv/versions/3.6.9/envs/laputa-3.6/lib/python3.6/site-packages (from h2==3.*->httpcore==0.9.*->httpx) (5.2.0)\n",
      "Requirement already satisfied: hpack<4,>=3.0 in /home/rachelle2/.pyenv/versions/3.6.9/envs/laputa-3.6/lib/python3.6/site-packages (from h2==3.*->httpcore==0.9.*->httpx) (3.0.0)\n",
      "Note: you may need to restart the kernel to use updated packages.\n"
     ]
    }
   ],
   "source": [
    "pip install Authlib httpx"
   ]
  },
  {
   "cell_type": "markdown",
   "metadata": {},
   "source": [
    "# Start setting up oauth client\n",
    "\n",
    "We need to read our configuration file for sensitive information pertaining to our account at Aircall and then handing it to the oauth1 client.\n",
    "\n",
    "This is the first step of the oauth dance\n",
    "\n",
    "NB: Aircall uses oauth2"
   ]
  },
  {
   "cell_type": "code",
   "execution_count": 13,
   "metadata": {},
   "outputs": [],
   "source": [
    "from authlib.integrations.httpx_client import AsyncOAuth2Client\n",
    "import json\n",
    "\n",
    "\n",
    "def opener():\n",
    "    with open('./config.json') as f:\n",
    "        f_json = f.read()\n",
    "    f_info = json.loads(f_json)\n",
    "    return f_info['client_id'], f_info['client_secret'], f_info['redirection_url'], f_info['port']\n",
    "    \n",
    "\n",
    "client_id, client_secret, partial_redirect_uri, port = opener()\n",
    "client = AsyncOAuth2Client(client_id, client_secret)"
   ]
  },
  {
   "cell_type": "markdown",
   "metadata": {},
   "source": [
    "### Set up redirection uri and create uri to call\n",
    "We need to have the authentication server speak to ours so that we can start the dance"
   ]
  },
  {
   "cell_type": "code",
   "execution_count": 16,
   "metadata": {},
   "outputs": [
    {
     "name": "stdout",
     "output_type": "stream",
     "text": [
      "request token url  https://dashboard-v2.aircall.io/oauth/authorize?client_id=Li6HcSFkH3FUlKEGvf3nFL8lSo_KjjwSIbQ8XGWRzWs&redirect_uri=https://92.169.232.4:8888&response_type=code&scope=public_api\n",
      "state  vNTgD3xzb8ogtqPzfGsxR4psQ5Q684\n"
     ]
    }
   ],
   "source": [
    "\n",
    "redirect_uri = f'https://{partial_redirect_uri}:{port}'\n",
    "\n",
    "authorization_endpoint = f'https://dashboard-v2.aircall.io/oauth/authorize?client_id={client_id}&redirect_uri={redirect_uri}&response_type=code&scope=public_api'\n",
    "print('request token url ', request_token_url)\n",
    "uri, state = client.create_authorization_url(authorization_endpoint)\n",
    "print('state ', state)"
   ]
  },
  {
   "cell_type": "markdown",
   "metadata": {},
   "source": [
    "Unfortunately this is where our test ends because we can't have an auth window popup in jupyter notebook"
   ]
  }
 ],
 "metadata": {
  "kernelspec": {
   "display_name": "Python 3",
   "language": "python",
   "name": "python3"
  },
  "language_info": {
   "codemirror_mode": {
    "name": "ipython",
    "version": 3
   },
   "file_extension": ".py",
   "mimetype": "text/x-python",
   "name": "python",
   "nbconvert_exporter": "python",
   "pygments_lexer": "ipython3",
   "version": "3.6.9"
  }
 },
 "nbformat": 4,
 "nbformat_minor": 4
}
